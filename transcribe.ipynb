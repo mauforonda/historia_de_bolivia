{
 "cells": [
  {
   "cell_type": "code",
   "execution_count": 14,
   "id": "b52c6a7f-5044-4326-8ceb-0843d66b16f8",
   "metadata": {},
   "outputs": [],
   "source": [
    "from mistralai import Mistral, DocumentURLChunk\n",
    "from mistralai.models import OCRResponse\n",
    "from pathlib import Path"
   ]
  },
  {
   "cell_type": "code",
   "execution_count": null,
   "id": "538a25d2-0866-4be6-9d10-72dded89ecf5",
   "metadata": {},
   "outputs": [],
   "source": [
    "client = Mistral(api_key=\"YOUR-KEY\")"
   ]
  },
  {
   "cell_type": "code",
   "execution_count": null,
   "id": "689d5ea4-a7d7-45f1-b97a-2fc894cda7ad",
   "metadata": {},
   "outputs": [],
   "source": [
    "def transcribe(pdf_path: Path, output_path: Path):\n",
    "    with open(pdf_path, \"rb\") as f:\n",
    "        pdf = f.read()\n",
    "    uploaded = client.files.upload(\n",
    "        file={\n",
    "            \"file_name\": pdf_path.name,\n",
    "            \"content\": pdf,\n",
    "        },\n",
    "        purpose=\"ocr\",\n",
    "    )\n",
    "    url = client.files.get_signed_url(file_id=uploaded.id, expiry=1)\n",
    "    response = client.ocr.process(\n",
    "        document=DocumentURLChunk(document_url=url.url),\n",
    "        model=\"mistral-ocr-latest\",\n",
    "        include_image_base64=False,\n",
    "    )\n",
    "    md = \"\\n\\n\".join([page.markdown for page in response.pages])\n",
    "    with open(output_path, \"w\", encoding=\"utf-8\") as f:\n",
    "        f.write(md)"
   ]
  },
  {
   "cell_type": "code",
   "execution_count": null,
   "id": "70fb3187-756f-4127-9ea9-3139dd4c6216",
   "metadata": {},
   "outputs": [],
   "source": [
    "pdf_path = Path(\"ensayo.pdf\")\n",
    "try:\n",
    "    transcribe(pdf_path, Path(\"index.md\"))\n",
    "except Exception as e:\n",
    "    print(f\"{pdf_path.name}: {e}\")"
   ]
  }
 ],
 "metadata": {
  "kernelspec": {
   "display_name": "pruebas",
   "language": "python",
   "name": "pruebas"
  },
  "language_info": {
   "codemirror_mode": {
    "name": "ipython",
    "version": 3
   },
   "file_extension": ".py",
   "mimetype": "text/x-python",
   "name": "python",
   "nbconvert_exporter": "python",
   "pygments_lexer": "ipython3",
   "version": "3.12.3"
  }
 },
 "nbformat": 4,
 "nbformat_minor": 5
}
